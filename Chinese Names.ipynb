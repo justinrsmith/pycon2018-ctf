{
 "cells": [
  {
   "cell_type": "code",
   "execution_count": 2,
   "metadata": {},
   "outputs": [],
   "source": [
    "from urllib.request import urlopen"
   ]
  },
  {
   "cell_type": "code",
   "execution_count": 17,
   "metadata": {},
   "outputs": [],
   "source": [
    "target_url = 'https://pynight.kaizen-ctf.com/files/chinese_names.txt'\n",
    "response = urlopen(target_url)\n",
    "lines = response.readlines()\n",
    "names = []\n",
    "for line in lines:\n",
    "    names.append(line.decode('utf8').replace('\\n', ''))\n",
    "#     line = line.decode('UTF-8').replace('\\n', '').replace('  ', ' ').split(' ')\n",
    "#     dt_string = f'{line[1]}/{line[2]}/{line[4]}'\n",
    "#     dt = datetime.strptime(dt_string, '%b/%d/%Y')\n",
    "#     dates.append(dt.date())"
   ]
  },
  {
   "cell_type": "code",
   "execution_count": 18,
   "metadata": {},
   "outputs": [],
   "source": [
    "names.sort()"
   ]
  },
  {
   "cell_type": "code",
   "execution_count": 19,
   "metadata": {},
   "outputs": [
    {
     "name": "stdout",
     "output_type": "stream",
     "text": [
      "330 蔣\n",
      "331 蔣\n",
      "332 蔣\n",
      "333 蔣\n",
      "334 蔣\n"
     ]
    }
   ],
   "source": [
    "for idx, name in enumerate(names):\n",
    "    if name == '蔣':\n",
    "        print(idx, name)"
   ]
  },
  {
   "cell_type": "code",
   "execution_count": null,
   "metadata": {},
   "outputs": [],
   "source": []
  }
 ],
 "metadata": {
  "kernelspec": {
   "display_name": "Python 3",
   "language": "python",
   "name": "python3"
  },
  "language_info": {
   "codemirror_mode": {
    "name": "ipython",
    "version": 3
   },
   "file_extension": ".py",
   "mimetype": "text/x-python",
   "name": "python",
   "nbconvert_exporter": "python",
   "pygments_lexer": "ipython3",
   "version": "3.6.4"
  }
 },
 "nbformat": 4,
 "nbformat_minor": 2
}
