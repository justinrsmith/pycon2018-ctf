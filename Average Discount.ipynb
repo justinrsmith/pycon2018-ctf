{
 "cells": [
  {
   "cell_type": "code",
   "execution_count": 1,
   "metadata": {},
   "outputs": [],
   "source": [
    "from pandas import read_csv"
   ]
  },
  {
   "cell_type": "code",
   "execution_count": 2,
   "metadata": {},
   "outputs": [],
   "source": [
    "df = read_csv('discount_prices.csv')"
   ]
  },
  {
   "cell_type": "code",
   "execution_count": 3,
   "metadata": {},
   "outputs": [
    {
     "data": {
      "text/html": [
       "<div>\n",
       "<style scoped>\n",
       "    .dataframe tbody tr th:only-of-type {\n",
       "        vertical-align: middle;\n",
       "    }\n",
       "\n",
       "    .dataframe tbody tr th {\n",
       "        vertical-align: top;\n",
       "    }\n",
       "\n",
       "    .dataframe thead th {\n",
       "        text-align: right;\n",
       "    }\n",
       "</style>\n",
       "<table border=\"1\" class=\"dataframe\">\n",
       "  <thead>\n",
       "    <tr style=\"text-align: right;\">\n",
       "      <th></th>\n",
       "      <th>Id</th>\n",
       "      <th>Category</th>\n",
       "      <th>Price</th>\n",
       "      <th>Discounted Price</th>\n",
       "    </tr>\n",
       "  </thead>\n",
       "  <tbody>\n",
       "    <tr>\n",
       "      <th>0</th>\n",
       "      <td>e22aaee02e2d5dbd</td>\n",
       "      <td>Category A</td>\n",
       "      <td>$81.63</td>\n",
       "      <td>$44.90</td>\n",
       "    </tr>\n",
       "    <tr>\n",
       "      <th>1</th>\n",
       "      <td>16bcd69f3197adfd</td>\n",
       "      <td>Category A</td>\n",
       "      <td>$97.44</td>\n",
       "      <td>$51.64</td>\n",
       "    </tr>\n",
       "    <tr>\n",
       "      <th>2</th>\n",
       "      <td>52245827900f309c</td>\n",
       "      <td>Category D</td>\n",
       "      <td>$77.33</td>\n",
       "      <td>$40.21</td>\n",
       "    </tr>\n",
       "    <tr>\n",
       "      <th>3</th>\n",
       "      <td>15037e2079fc7fe8</td>\n",
       "      <td>Category A</td>\n",
       "      <td>$36.55</td>\n",
       "      <td>$31.43</td>\n",
       "    </tr>\n",
       "    <tr>\n",
       "      <th>4</th>\n",
       "      <td>a7789bd9533de8fa</td>\n",
       "      <td>Category D</td>\n",
       "      <td>$50.34</td>\n",
       "      <td>$47.32</td>\n",
       "    </tr>\n",
       "  </tbody>\n",
       "</table>\n",
       "</div>"
      ],
      "text/plain": [
       "                 Id    Category   Price Discounted Price\n",
       "0  e22aaee02e2d5dbd  Category A  $81.63           $44.90\n",
       "1  16bcd69f3197adfd  Category A  $97.44           $51.64\n",
       "2  52245827900f309c  Category D  $77.33           $40.21\n",
       "3  15037e2079fc7fe8  Category A  $36.55           $31.43\n",
       "4  a7789bd9533de8fa  Category D  $50.34           $47.32"
      ]
     },
     "execution_count": 3,
     "metadata": {},
     "output_type": "execute_result"
    }
   ],
   "source": [
    "df.head()"
   ]
  },
  {
   "cell_type": "code",
   "execution_count": 6,
   "metadata": {},
   "outputs": [],
   "source": [
    "df['Price'] = (df['Price'].replace( '[\\$,)]','', regex=True )\n",
    "                   .replace( '[(]','-',   regex=True ).astype(float))"
   ]
  },
  {
   "cell_type": "code",
   "execution_count": 7,
   "metadata": {},
   "outputs": [],
   "source": [
    "df['Discounted Price'] = (df['Discounted Price'].replace( '[\\$,)]','', regex=True )\n",
    "                   .replace( '[(]','-',   regex=True ).astype(float))"
   ]
  },
  {
   "cell_type": "code",
   "execution_count": 13,
   "metadata": {},
   "outputs": [],
   "source": [
    "df['discount_amount'] = df['Price'] - df['Discounted Price']"
   ]
  },
  {
   "cell_type": "code",
   "execution_count": 14,
   "metadata": {},
   "outputs": [],
   "source": [
    "df['discount_rate'] = df['discount_amount'] / df['Price']"
   ]
  },
  {
   "cell_type": "code",
   "execution_count": 15,
   "metadata": {},
   "outputs": [
    {
     "data": {
      "text/html": [
       "<div>\n",
       "<style scoped>\n",
       "    .dataframe tbody tr th:only-of-type {\n",
       "        vertical-align: middle;\n",
       "    }\n",
       "\n",
       "    .dataframe tbody tr th {\n",
       "        vertical-align: top;\n",
       "    }\n",
       "\n",
       "    .dataframe thead th {\n",
       "        text-align: right;\n",
       "    }\n",
       "</style>\n",
       "<table border=\"1\" class=\"dataframe\">\n",
       "  <thead>\n",
       "    <tr style=\"text-align: right;\">\n",
       "      <th></th>\n",
       "      <th>Id</th>\n",
       "      <th>Category</th>\n",
       "      <th>Price</th>\n",
       "      <th>Discounted Price</th>\n",
       "      <th>Discounted</th>\n",
       "      <th>discount_amount</th>\n",
       "      <th>discount_rate</th>\n",
       "    </tr>\n",
       "  </thead>\n",
       "  <tbody>\n",
       "    <tr>\n",
       "      <th>0</th>\n",
       "      <td>e22aaee02e2d5dbd</td>\n",
       "      <td>Category A</td>\n",
       "      <td>81.63</td>\n",
       "      <td>44.90</td>\n",
       "      <td>36.73</td>\n",
       "      <td>36.73</td>\n",
       "      <td>0.449957</td>\n",
       "    </tr>\n",
       "    <tr>\n",
       "      <th>1</th>\n",
       "      <td>16bcd69f3197adfd</td>\n",
       "      <td>Category A</td>\n",
       "      <td>97.44</td>\n",
       "      <td>51.64</td>\n",
       "      <td>45.80</td>\n",
       "      <td>45.80</td>\n",
       "      <td>0.470033</td>\n",
       "    </tr>\n",
       "    <tr>\n",
       "      <th>2</th>\n",
       "      <td>52245827900f309c</td>\n",
       "      <td>Category D</td>\n",
       "      <td>77.33</td>\n",
       "      <td>40.21</td>\n",
       "      <td>37.12</td>\n",
       "      <td>37.12</td>\n",
       "      <td>0.480021</td>\n",
       "    </tr>\n",
       "    <tr>\n",
       "      <th>3</th>\n",
       "      <td>15037e2079fc7fe8</td>\n",
       "      <td>Category A</td>\n",
       "      <td>36.55</td>\n",
       "      <td>31.43</td>\n",
       "      <td>5.12</td>\n",
       "      <td>5.12</td>\n",
       "      <td>0.140082</td>\n",
       "    </tr>\n",
       "    <tr>\n",
       "      <th>4</th>\n",
       "      <td>a7789bd9533de8fa</td>\n",
       "      <td>Category D</td>\n",
       "      <td>50.34</td>\n",
       "      <td>47.32</td>\n",
       "      <td>3.02</td>\n",
       "      <td>3.02</td>\n",
       "      <td>0.059992</td>\n",
       "    </tr>\n",
       "  </tbody>\n",
       "</table>\n",
       "</div>"
      ],
      "text/plain": [
       "                 Id    Category  Price  Discounted Price  Discounted  \\\n",
       "0  e22aaee02e2d5dbd  Category A  81.63             44.90       36.73   \n",
       "1  16bcd69f3197adfd  Category A  97.44             51.64       45.80   \n",
       "2  52245827900f309c  Category D  77.33             40.21       37.12   \n",
       "3  15037e2079fc7fe8  Category A  36.55             31.43        5.12   \n",
       "4  a7789bd9533de8fa  Category D  50.34             47.32        3.02   \n",
       "\n",
       "   discount_amount  discount_rate  \n",
       "0            36.73       0.449957  \n",
       "1            45.80       0.470033  \n",
       "2            37.12       0.480021  \n",
       "3             5.12       0.140082  \n",
       "4             3.02       0.059992  "
      ]
     },
     "execution_count": 15,
     "metadata": {},
     "output_type": "execute_result"
    }
   ],
   "source": [
    "df.head()"
   ]
  },
  {
   "cell_type": "code",
   "execution_count": 16,
   "metadata": {},
   "outputs": [
    {
     "data": {
      "text/html": [
       "<div>\n",
       "<style scoped>\n",
       "    .dataframe tbody tr th:only-of-type {\n",
       "        vertical-align: middle;\n",
       "    }\n",
       "\n",
       "    .dataframe tbody tr th {\n",
       "        vertical-align: top;\n",
       "    }\n",
       "\n",
       "    .dataframe thead th {\n",
       "        text-align: right;\n",
       "    }\n",
       "</style>\n",
       "<table border=\"1\" class=\"dataframe\">\n",
       "  <thead>\n",
       "    <tr style=\"text-align: right;\">\n",
       "      <th></th>\n",
       "      <th>Price</th>\n",
       "      <th>Discounted Price</th>\n",
       "      <th>Discounted</th>\n",
       "      <th>discount_amount</th>\n",
       "      <th>discount_rate</th>\n",
       "    </tr>\n",
       "    <tr>\n",
       "      <th>Category</th>\n",
       "      <th></th>\n",
       "      <th></th>\n",
       "      <th></th>\n",
       "      <th></th>\n",
       "      <th></th>\n",
       "    </tr>\n",
       "  </thead>\n",
       "  <tbody>\n",
       "    <tr>\n",
       "      <th>Category A</th>\n",
       "      <td>54.081022</td>\n",
       "      <td>40.835401</td>\n",
       "      <td>13.245620</td>\n",
       "      <td>13.245620</td>\n",
       "      <td>0.244529</td>\n",
       "    </tr>\n",
       "    <tr>\n",
       "      <th>Category B</th>\n",
       "      <td>52.776803</td>\n",
       "      <td>39.476352</td>\n",
       "      <td>13.300451</td>\n",
       "      <td>13.300451</td>\n",
       "      <td>0.252956</td>\n",
       "    </tr>\n",
       "    <tr>\n",
       "      <th>Category C</th>\n",
       "      <td>51.692232</td>\n",
       "      <td>38.252277</td>\n",
       "      <td>13.439955</td>\n",
       "      <td>13.439955</td>\n",
       "      <td>0.258875</td>\n",
       "    </tr>\n",
       "    <tr>\n",
       "      <th>Category D</th>\n",
       "      <td>55.354806</td>\n",
       "      <td>41.645620</td>\n",
       "      <td>13.709186</td>\n",
       "      <td>13.709186</td>\n",
       "      <td>0.248537</td>\n",
       "    </tr>\n",
       "  </tbody>\n",
       "</table>\n",
       "</div>"
      ],
      "text/plain": [
       "                Price  Discounted Price  Discounted  discount_amount  \\\n",
       "Category                                                               \n",
       "Category A  54.081022         40.835401   13.245620        13.245620   \n",
       "Category B  52.776803         39.476352   13.300451        13.300451   \n",
       "Category C  51.692232         38.252277   13.439955        13.439955   \n",
       "Category D  55.354806         41.645620   13.709186        13.709186   \n",
       "\n",
       "            discount_rate  \n",
       "Category                   \n",
       "Category A       0.244529  \n",
       "Category B       0.252956  \n",
       "Category C       0.258875  \n",
       "Category D       0.248537  "
      ]
     },
     "execution_count": 16,
     "metadata": {},
     "output_type": "execute_result"
    }
   ],
   "source": [
    "df.groupby(['Category']).mean()"
   ]
  },
  {
   "cell_type": "code",
   "execution_count": null,
   "metadata": {},
   "outputs": [],
   "source": []
  }
 ],
 "metadata": {
  "kernelspec": {
   "display_name": "Python 3",
   "language": "python",
   "name": "python3"
  },
  "language_info": {
   "codemirror_mode": {
    "name": "ipython",
    "version": 3
   },
   "file_extension": ".py",
   "mimetype": "text/x-python",
   "name": "python",
   "nbconvert_exporter": "python",
   "pygments_lexer": "ipython3",
   "version": "3.6.4"
  }
 },
 "nbformat": 4,
 "nbformat_minor": 2
}
