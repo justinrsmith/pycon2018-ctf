{
 "cells": [
  {
   "cell_type": "code",
   "execution_count": 97,
   "metadata": {},
   "outputs": [],
   "source": [
    "from pandas import read_csv\n",
    "from pandas import to_datetime"
   ]
  },
  {
   "cell_type": "code",
   "execution_count": 98,
   "metadata": {},
   "outputs": [],
   "source": [
    "df = read_csv('congress_resignations.csv')"
   ]
  },
  {
   "cell_type": "code",
   "execution_count": 99,
   "metadata": {
    "scrolled": true
   },
   "outputs": [
    {
     "data": {
      "text/html": [
       "<div>\n",
       "<style scoped>\n",
       "    .dataframe tbody tr th:only-of-type {\n",
       "        vertical-align: middle;\n",
       "    }\n",
       "\n",
       "    .dataframe tbody tr th {\n",
       "        vertical-align: top;\n",
       "    }\n",
       "\n",
       "    .dataframe thead th {\n",
       "        text-align: right;\n",
       "    }\n",
       "</style>\n",
       "<table border=\"1\" class=\"dataframe\">\n",
       "  <thead>\n",
       "    <tr style=\"text-align: right;\">\n",
       "      <th></th>\n",
       "      <th>Unnamed: 0</th>\n",
       "      <th>Category</th>\n",
       "      <th>Congress</th>\n",
       "      <th>District</th>\n",
       "      <th>Member</th>\n",
       "      <th>Party</th>\n",
       "      <th>Reason</th>\n",
       "      <th>Resignation Date</th>\n",
       "      <th>Source</th>\n",
       "    </tr>\n",
       "  </thead>\n",
       "  <tbody>\n",
       "    <tr>\n",
       "      <th>0</th>\n",
       "      <td>0</td>\n",
       "      <td>D</td>\n",
       "      <td>115th</td>\n",
       "      <td>OH-12</td>\n",
       "      <td>Pat Tiberi</td>\n",
       "      <td>R</td>\n",
       "      <td>Took a job with the Ohio Business Roundtable</td>\n",
       "      <td>1/15/2018</td>\n",
       "      <td>New York Times</td>\n",
       "    </tr>\n",
       "    <tr>\n",
       "      <th>1</th>\n",
       "      <td>1</td>\n",
       "      <td>X</td>\n",
       "      <td>115th</td>\n",
       "      <td>MN-SEN</td>\n",
       "      <td>Al Franken</td>\n",
       "      <td>D</td>\n",
       "      <td>Sexual harassment/groping/unwanted kissing</td>\n",
       "      <td>1/2/2018</td>\n",
       "      <td>Minneapolis Star Tribune</td>\n",
       "    </tr>\n",
       "    <tr>\n",
       "      <th>2</th>\n",
       "      <td>2</td>\n",
       "      <td>X</td>\n",
       "      <td>115th</td>\n",
       "      <td>AZ-08</td>\n",
       "      <td>Trent Franks</td>\n",
       "      <td>R</td>\n",
       "      <td>Sexual harassment/surrogacy pressure</td>\n",
       "      <td>12/8/2017</td>\n",
       "      <td>CNN</td>\n",
       "    </tr>\n",
       "    <tr>\n",
       "      <th>3</th>\n",
       "      <td>3</td>\n",
       "      <td>X</td>\n",
       "      <td>115th</td>\n",
       "      <td>MI-13</td>\n",
       "      <td>John Conyers</td>\n",
       "      <td>D</td>\n",
       "      <td>Sexual harassment/inappropriate touching</td>\n",
       "      <td>12/5/2017</td>\n",
       "      <td>Washington Post</td>\n",
       "    </tr>\n",
       "    <tr>\n",
       "      <th>4</th>\n",
       "      <td>4</td>\n",
       "      <td>A</td>\n",
       "      <td>115th</td>\n",
       "      <td>PA-18</td>\n",
       "      <td>Tim Murphy</td>\n",
       "      <td>R</td>\n",
       "      <td>Extramarital affair/abortion hypocrisy</td>\n",
       "      <td>10/21/2017</td>\n",
       "      <td>POLITICO</td>\n",
       "    </tr>\n",
       "  </tbody>\n",
       "</table>\n",
       "</div>"
      ],
      "text/plain": [
       "   Unnamed: 0 Category Congress District        Member Party  \\\n",
       "0           0        D    115th    OH-12    Pat Tiberi     R   \n",
       "1           1        X    115th   MN-SEN    Al Franken     D   \n",
       "2           2        X    115th    AZ-08  Trent Franks     R   \n",
       "3           3        X    115th    MI-13  John Conyers     D   \n",
       "4           4        A    115th    PA-18    Tim Murphy     R   \n",
       "\n",
       "                                         Reason Resignation Date  \\\n",
       "0  Took a job with the Ohio Business Roundtable        1/15/2018   \n",
       "1    Sexual harassment/groping/unwanted kissing         1/2/2018   \n",
       "2          Sexual harassment/surrogacy pressure        12/8/2017   \n",
       "3      Sexual harassment/inappropriate touching        12/5/2017   \n",
       "4        Extramarital affair/abortion hypocrisy       10/21/2017   \n",
       "\n",
       "                     Source  \n",
       "0            New York Times  \n",
       "1  Minneapolis Star Tribune  \n",
       "2                       CNN  \n",
       "3           Washington Post  \n",
       "4                  POLITICO  "
      ]
     },
     "execution_count": 99,
     "metadata": {},
     "output_type": "execute_result"
    }
   ],
   "source": [
    "df.head()"
   ]
  },
  {
   "cell_type": "markdown",
   "metadata": {},
   "source": [
    "- Convert Resignation Date to a datetime field"
   ]
  },
  {
   "cell_type": "code",
   "execution_count": 100,
   "metadata": {},
   "outputs": [],
   "source": [
    "df['Resignation Date'] = to_datetime(df['Resignation Date'])"
   ]
  },
  {
   "cell_type": "code",
   "execution_count": 101,
   "metadata": {
    "scrolled": true
   },
   "outputs": [
    {
     "data": {
      "text/html": [
       "<div>\n",
       "<style scoped>\n",
       "    .dataframe tbody tr th:only-of-type {\n",
       "        vertical-align: middle;\n",
       "    }\n",
       "\n",
       "    .dataframe tbody tr th {\n",
       "        vertical-align: top;\n",
       "    }\n",
       "\n",
       "    .dataframe thead th {\n",
       "        text-align: right;\n",
       "    }\n",
       "</style>\n",
       "<table border=\"1\" class=\"dataframe\">\n",
       "  <thead>\n",
       "    <tr style=\"text-align: right;\">\n",
       "      <th></th>\n",
       "      <th>Unnamed: 0</th>\n",
       "      <th>Category</th>\n",
       "      <th>Congress</th>\n",
       "      <th>District</th>\n",
       "      <th>Member</th>\n",
       "      <th>Party</th>\n",
       "      <th>Reason</th>\n",
       "      <th>Resignation Date</th>\n",
       "      <th>Source</th>\n",
       "    </tr>\n",
       "  </thead>\n",
       "  <tbody>\n",
       "    <tr>\n",
       "      <th>0</th>\n",
       "      <td>0</td>\n",
       "      <td>D</td>\n",
       "      <td>115th</td>\n",
       "      <td>OH-12</td>\n",
       "      <td>Pat Tiberi</td>\n",
       "      <td>R</td>\n",
       "      <td>Took a job with the Ohio Business Roundtable</td>\n",
       "      <td>2018-01-15</td>\n",
       "      <td>New York Times</td>\n",
       "    </tr>\n",
       "    <tr>\n",
       "      <th>1</th>\n",
       "      <td>1</td>\n",
       "      <td>X</td>\n",
       "      <td>115th</td>\n",
       "      <td>MN-SEN</td>\n",
       "      <td>Al Franken</td>\n",
       "      <td>D</td>\n",
       "      <td>Sexual harassment/groping/unwanted kissing</td>\n",
       "      <td>2018-01-02</td>\n",
       "      <td>Minneapolis Star Tribune</td>\n",
       "    </tr>\n",
       "    <tr>\n",
       "      <th>2</th>\n",
       "      <td>2</td>\n",
       "      <td>X</td>\n",
       "      <td>115th</td>\n",
       "      <td>AZ-08</td>\n",
       "      <td>Trent Franks</td>\n",
       "      <td>R</td>\n",
       "      <td>Sexual harassment/surrogacy pressure</td>\n",
       "      <td>2017-12-08</td>\n",
       "      <td>CNN</td>\n",
       "    </tr>\n",
       "    <tr>\n",
       "      <th>3</th>\n",
       "      <td>3</td>\n",
       "      <td>X</td>\n",
       "      <td>115th</td>\n",
       "      <td>MI-13</td>\n",
       "      <td>John Conyers</td>\n",
       "      <td>D</td>\n",
       "      <td>Sexual harassment/inappropriate touching</td>\n",
       "      <td>2017-12-05</td>\n",
       "      <td>Washington Post</td>\n",
       "    </tr>\n",
       "    <tr>\n",
       "      <th>4</th>\n",
       "      <td>4</td>\n",
       "      <td>A</td>\n",
       "      <td>115th</td>\n",
       "      <td>PA-18</td>\n",
       "      <td>Tim Murphy</td>\n",
       "      <td>R</td>\n",
       "      <td>Extramarital affair/abortion hypocrisy</td>\n",
       "      <td>2017-10-21</td>\n",
       "      <td>POLITICO</td>\n",
       "    </tr>\n",
       "  </tbody>\n",
       "</table>\n",
       "</div>"
      ],
      "text/plain": [
       "   Unnamed: 0 Category Congress District        Member Party  \\\n",
       "0           0        D    115th    OH-12    Pat Tiberi     R   \n",
       "1           1        X    115th   MN-SEN    Al Franken     D   \n",
       "2           2        X    115th    AZ-08  Trent Franks     R   \n",
       "3           3        X    115th    MI-13  John Conyers     D   \n",
       "4           4        A    115th    PA-18    Tim Murphy     R   \n",
       "\n",
       "                                         Reason Resignation Date  \\\n",
       "0  Took a job with the Ohio Business Roundtable       2018-01-15   \n",
       "1    Sexual harassment/groping/unwanted kissing       2018-01-02   \n",
       "2          Sexual harassment/surrogacy pressure       2017-12-08   \n",
       "3      Sexual harassment/inappropriate touching       2017-12-05   \n",
       "4        Extramarital affair/abortion hypocrisy       2017-10-21   \n",
       "\n",
       "                     Source  \n",
       "0            New York Times  \n",
       "1  Minneapolis Star Tribune  \n",
       "2                       CNN  \n",
       "3           Washington Post  \n",
       "4                  POLITICO  "
      ]
     },
     "execution_count": 101,
     "metadata": {},
     "output_type": "execute_result"
    }
   ],
   "source": [
    "df.head()"
   ]
  },
  {
   "cell_type": "markdown",
   "metadata": {},
   "source": [
    "* Build a list of years that are the year after an election year, election years are divisible by 4"
   ]
  },
  {
   "cell_type": "code",
   "execution_count": 104,
   "metadata": {},
   "outputs": [
    {
     "data": {
      "text/plain": [
       "[1777,\n",
       " 1781,\n",
       " 1785,\n",
       " 1789,\n",
       " 1793,\n",
       " 1797,\n",
       " 1801,\n",
       " 1805,\n",
       " 1809,\n",
       " 1813,\n",
       " 1817,\n",
       " 1821,\n",
       " 1825,\n",
       " 1829,\n",
       " 1833,\n",
       " 1837,\n",
       " 1841,\n",
       " 1845,\n",
       " 1849,\n",
       " 1853,\n",
       " 1857,\n",
       " 1861,\n",
       " 1865,\n",
       " 1869,\n",
       " 1873,\n",
       " 1877,\n",
       " 1881,\n",
       " 1885,\n",
       " 1889,\n",
       " 1893,\n",
       " 1897,\n",
       " 1901,\n",
       " 1905,\n",
       " 1909,\n",
       " 1913,\n",
       " 1917,\n",
       " 1921,\n",
       " 1925,\n",
       " 1929,\n",
       " 1933,\n",
       " 1937,\n",
       " 1941,\n",
       " 1945,\n",
       " 1949,\n",
       " 1953,\n",
       " 1957,\n",
       " 1961,\n",
       " 1965,\n",
       " 1969,\n",
       " 1973,\n",
       " 1977,\n",
       " 1981,\n",
       " 1985,\n",
       " 1989,\n",
       " 1993,\n",
       " 1997,\n",
       " 2001,\n",
       " 2005,\n",
       " 2009,\n",
       " 2013,\n",
       " 2017]"
      ]
     },
     "execution_count": 104,
     "metadata": {},
     "output_type": "execute_result"
    }
   ],
   "source": [
    "years_after_election_year = []\n",
    "for year in range(1776, 2018):\n",
    "    if year % 4 == 0:\n",
    "        years_after_election_year.append(year+1)"
   ]
  },
  {
   "cell_type": "code",
   "execution_count": 105,
   "metadata": {},
   "outputs": [],
   "source": [
    "df = df[df['Resignation Date'].dt.year.isin(years_after_election_year)]"
   ]
  },
  {
   "cell_type": "code",
   "execution_count": 106,
   "metadata": {},
   "outputs": [
    {
     "data": {
      "text/plain": [
       "(104, 9)"
      ]
     },
     "execution_count": 106,
     "metadata": {},
     "output_type": "execute_result"
    }
   ],
   "source": [
    "df[df['Resignation Date'].dt.month <= 6].shape"
   ]
  }
 ],
 "metadata": {
  "kernelspec": {
   "display_name": "Python 3",
   "language": "python",
   "name": "python3"
  },
  "language_info": {
   "codemirror_mode": {
    "name": "ipython",
    "version": 3
   },
   "file_extension": ".py",
   "mimetype": "text/x-python",
   "name": "python",
   "nbconvert_exporter": "python",
   "pygments_lexer": "ipython3",
   "version": "3.6.4"
  }
 },
 "nbformat": 4,
 "nbformat_minor": 2
}
