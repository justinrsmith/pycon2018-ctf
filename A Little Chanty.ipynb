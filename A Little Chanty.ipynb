{
 "cells": [
  {
   "cell_type": "code",
   "execution_count": 40,
   "metadata": {},
   "outputs": [],
   "source": [
    "from urllib.request import urlopen\n",
    "import re"
   ]
  },
  {
   "cell_type": "code",
   "execution_count": 53,
   "metadata": {},
   "outputs": [
    {
     "name": "stdout",
     "output_type": "stream",
     "text": [
      "Yo ho, yo ho, a pirate's life for me.\n",
      "Yo ho yo ho a pirate's life for me\n",
      "We pillage, we plunder, we rifle, and loot,\n",
      "We pillage we plunder we rifle and loot\n",
      "Drink up me hearties, yo ho.\n",
      "Drink up me hearties yo ho\n",
      "We kidnap and ravage and don't give a hoot,\n",
      "We kidnap and ravage and don't give a hoot\n",
      "Drink up me hearties, yo ho.\n",
      "Drink up me hearties yo ho\n",
      "Yo ho, yo ho, a pirate's life for me.\n",
      "Yo ho yo ho a pirate's life for me\n",
      "We extort, we pilfer, we filch, and sack,\n",
      "We extort we pilfer we filch and sack\n",
      "Drink up me hearties, yo ho.\n",
      "Drink up me hearties yo ho\n",
      "Maraud and embezzle, and even high-jack,\n",
      "Maraud and embezzle and even high-jack\n",
      "Drink up me hearties, yo ho.\n",
      "Drink up me hearties yo ho\n",
      "Yo ho, yo ho, a pirate's life for me.\n",
      "Yo ho yo ho a pirate's life for me\n",
      "We kindle and char, inflame and ignite,\n",
      "We kindle and char inflame and ignite\n",
      "Drink up me hearties, yo ho.\n",
      "Drink up me hearties yo ho\n",
      "We burn up the city, we're really a fright,\n",
      "We burn up the city we're really a fright\n",
      "Drink up me hearties, yo ho.\n",
      "Drink up me hearties yo ho\n",
      "We're rascals, scoundrels, villains, and knaves,\n",
      "We're rascals scoundrels villains and knaves\n",
      "Drink up me hearties, yo ho.\n",
      "Drink up me hearties yo ho\n",
      "We're devils and black sheep, really bad eggs,\n",
      "We're devils and black sheep really bad eggs\n",
      "Drink up me hearties, yo ho.\n",
      "Drink up me hearties yo ho\n",
      "Yo ho, yo ho, a pirate's life for me.\n",
      "Yo ho yo ho a pirate's life for me\n",
      "We're beggars and blighters, ne'er-do-well cads,\n",
      "We're beggars and blighters ne'er-do-well cads\n",
      "Drink up me hearties, yo ho.\n",
      "Drink up me hearties yo ho\n",
      "Aye, but we're loved by our mommies and dads,\n",
      "Aye but we're loved by our mommies and dads\n",
      "Drink up me hearties, yo ho.\n",
      "Drink up me hearties yo ho\n"
     ]
    }
   ],
   "source": [
    "target_url = 'https://pynight.kaizen-ctf.com/files/yohosong.txt'\n",
    "response = urlopen(target_url)\n",
    "lines = response.readlines()\n",
    "words = []\n",
    "for line in lines:\n",
    "    temp = line.decode('UTF-8').replace('\\n', '')\n",
    "    print(temp)\n",
    "    temp = re.sub(r'[\\,\\.]', '', temp)\n",
    "    print(temp)\n",
    "    test = temp.split(' ')\n",
    "    for word in temp.split(' '):\n",
    "        words.append(word)"
   ]
  },
  {
   "cell_type": "code",
   "execution_count": 48,
   "metadata": {},
   "outputs": [
    {
     "data": {
      "text/plain": [
       "3.8313953488372094"
      ]
     },
     "execution_count": 48,
     "metadata": {},
     "output_type": "execute_result"
    }
   ],
   "source": [
    "sum(len(word) for word in words) / len(words)"
   ]
  },
  {
   "cell_type": "code",
   "execution_count": null,
   "metadata": {},
   "outputs": [],
   "source": []
  }
 ],
 "metadata": {
  "kernelspec": {
   "display_name": "Python 3",
   "language": "python",
   "name": "python3"
  },
  "language_info": {
   "codemirror_mode": {
    "name": "ipython",
    "version": 3
   },
   "file_extension": ".py",
   "mimetype": "text/x-python",
   "name": "python",
   "nbconvert_exporter": "python",
   "pygments_lexer": "ipython3",
   "version": "3.6.4"
  }
 },
 "nbformat": 4,
 "nbformat_minor": 2
}
