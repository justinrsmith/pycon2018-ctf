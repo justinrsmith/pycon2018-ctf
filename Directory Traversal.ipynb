{
 "cells": [
  {
   "cell_type": "code",
   "execution_count": 2,
   "metadata": {},
   "outputs": [],
   "source": [
    "from urllib.request import urlopen"
   ]
  },
  {
   "cell_type": "code",
   "execution_count": 5,
   "metadata": {},
   "outputs": [
    {
     "name": "stdout",
     "output_type": "stream",
     "text": [
      "60 b'192.168.0.13 server [10/Aug/2017:23:19:54] \"GET ../../etc/passwd HTTP/1.0\" 200\\n'\n"
     ]
    }
   ],
   "source": [
    "target_url = 'https://pynight.kaizen-ctf.com/files/requested_paths.log'\n",
    "response = urlopen(target_url)\n",
    "lines = response.readlines()\n",
    "values = []\n",
    "for idx, line in enumerate(lines):\n",
    "    log_entry = line.decode('UTF-8').replace('\\n', '')\n",
    "    if '../' in log_entry and '200' in log_entry:\n",
    "        print(idx, line)\n",
    "#     values.append(int(line.decode('UTF-8').replace('\\n', '').split(' ')[0]))"
   ]
  },
  {
   "cell_type": "code",
   "execution_count": null,
   "metadata": {},
   "outputs": [],
   "source": []
  }
 ],
 "metadata": {
  "kernelspec": {
   "display_name": "Python 3",
   "language": "python",
   "name": "python3"
  },
  "language_info": {
   "codemirror_mode": {
    "name": "ipython",
    "version": 3
   },
   "file_extension": ".py",
   "mimetype": "text/x-python",
   "name": "python",
   "nbconvert_exporter": "python",
   "pygments_lexer": "ipython3",
   "version": "3.6.4"
  }
 },
 "nbformat": 4,
 "nbformat_minor": 2
}
